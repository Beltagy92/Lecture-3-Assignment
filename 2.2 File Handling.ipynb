{
 "cells": [
  {
   "cell_type": "markdown",
   "metadata": {},
   "source": [
    "# File Handling Assignment"
   ]
  },
  {
   "cell_type": "code",
   "execution_count": 29,
   "metadata": {},
   "outputs": [
    {
     "data": {
      "text/plain": [
       "'Hello World\\nHello World\\nHello World\\nHello World\\nHello World\\n'"
      ]
     },
     "execution_count": 29,
     "metadata": {},
     "output_type": "execute_result"
    }
   ],
   "source": [
    "my_file = open(\"test.txt\",\"a+\")\n",
    "my_file.write(\"Hello World\\n\"*5)\n",
    "my_file.seek(0)\n",
    "my_file.read()"
   ]
  },
  {
   "cell_type": "code",
   "execution_count": 33,
   "metadata": {},
   "outputs": [
    {
     "name": "stdout",
     "output_type": "stream",
     "text": [
      "HELLO WORLD\n",
      "\n",
      "HELLO WORLD\n",
      "\n",
      "HELLO WORLD\n",
      "\n",
      "HELLO WORLD\n",
      "\n",
      "HELLO WORLD\n",
      "\n"
     ]
    }
   ],
   "source": [
    "for n in open(\"test.txt\"):\n",
    "    print(n.upper())"
   ]
  },
  {
   "cell_type": "code",
   "execution_count": 31,
   "metadata": {},
   "outputs": [
    {
     "data": {
      "text/plain": [
       "'HELLO WORLD\\n'"
      ]
     },
     "execution_count": 31,
     "metadata": {},
     "output_type": "execute_result"
    }
   ],
   "source": [
    "my_file = open(\"test.txt\",\"r+\")\n",
    "my_lines = my_file.readlines()\n",
    "my_lines[2].upper()"
   ]
  },
  {
   "cell_type": "code",
   "execution_count": 34,
   "metadata": {},
   "outputs": [
    {
     "name": "stdout",
     "output_type": "stream",
     "text": [
      "['Hello World\\n', 'Hello World\\n', 'Hello World\\n', 'Hello World\\n', 'Hello World\\n']\n",
      "['Hello World\\n', 'Hello World\\n', 'Hello World\\n', 'Hello World\\n', 'Hello World\\n', 'I Love Python']\n"
     ]
    }
   ],
   "source": [
    "with open('test.txt', 'a+') as my_file:\n",
    "    my_file.seek(0)\n",
    "    print(my_file.readlines())\n",
    "    my_file.write('I Love Python')\n",
    "    my_file.seek(0)\n",
    "\n",
    "    print(my_file.readlines())"
   ]
  },
  {
   "cell_type": "code",
   "execution_count": null,
   "metadata": {},
   "outputs": [],
   "source": []
  },
  {
   "cell_type": "markdown",
   "metadata": {},
   "source": [
    "# Thank You"
   ]
  }
 ],
 "metadata": {
  "kernelspec": {
   "display_name": "Python 3",
   "language": "python",
   "name": "python3"
  },
  "language_info": {
   "codemirror_mode": {
    "name": "ipython",
    "version": 3
   },
   "file_extension": ".py",
   "mimetype": "text/x-python",
   "name": "python",
   "nbconvert_exporter": "python",
   "pygments_lexer": "ipython3",
   "version": "3.7.6"
  }
 },
 "nbformat": 4,
 "nbformat_minor": 4
}
